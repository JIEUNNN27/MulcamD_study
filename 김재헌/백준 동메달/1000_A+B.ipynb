{
  "nbformat": 4,
  "nbformat_minor": 0,
  "metadata": {
    "colab": {
      "name": "1000_A+B",
      "provenance": [],
      "authorship_tag": "ABX9TyPRD9ajQOpilG3JruJtQ41D"
    },
    "kernelspec": {
      "name": "python3",
      "display_name": "Python 3"
    },
    "language_info": {
      "name": "python"
    }
  },
  "cells": [
    {
      "cell_type": "markdown",
      "source": [
        "아래 예제와 같이 고양이를 출력하시오.\n",
        "\n"
      ],
      "metadata": {
        "id": "ueg3OV55FqqA"
      }
    },
    {
      "cell_type": "code",
      "execution_count": null,
      "metadata": {
        "id": "-o_RdQueFUFh"
      },
      "outputs": [],
      "source": [
        "print(\"|\\_/|\")\n",
        "print(\"|q p|   /}\")\n",
        "print('( 0 )\"\"\"\\\\')\n",
        "print('|\"^\"`    |')\n",
        "print('||_/=\\\\\\__|')"
      ]
    }
  ]
}