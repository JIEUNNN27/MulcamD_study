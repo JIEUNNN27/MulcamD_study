{
  "nbformat": 4,
  "nbformat_minor": 0,
  "metadata": {
    "colab": {
      "name": "6002_출력하기02.ipynb",
      "provenance": [],
      "authorship_tag": "ABX9TyMXW5sTgg2shtFfAd9FZm3z",
      "include_colab_link": true
    },
    "kernelspec": {
      "name": "python3",
      "display_name": "Python 3"
    },
    "language_info": {
      "name": "python"
    }
  },
  "cells": [
    {
      "cell_type": "markdown",
      "metadata": {
        "id": "view-in-github",
        "colab_type": "text"
      },
      "source": [
        "<a href=\"https://colab.research.google.com/github/gemjh/MulcamD_study/blob/master/6002_%EC%B6%9C%EB%A0%A5%ED%95%98%EA%B8%B002.ipynb\" target=\"_parent\"><img src=\"https://colab.research.google.com/assets/colab-badge.svg\" alt=\"Open In Colab\"/></a>"
      ]
    },
    {
      "cell_type": "markdown",
      "source": [
        "이번에는 공백( )을 포함한 문장을 출력한다. \n",
        "다음 문장을 출력해보자.\n",
        "\n",
        "Hello World\n",
        "(대소문자에 주의한다.)"
      ],
      "metadata": {
        "id": "ueg3OV55FqqA"
      }
    },
    {
      "cell_type": "code",
      "execution_count": null,
      "metadata": {
        "id": "-o_RdQueFUFh"
      },
      "outputs": [],
      "source": [
        "print(\"Hello World\")\n"
      ]
    }
  ]
}